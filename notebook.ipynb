{
 "cells": [
  {
   "cell_type": "code",
   "execution_count": 17,
   "metadata": {},
   "outputs": [
    {
     "ename": "KeyError",
     "evalue": "'input_variables'",
     "output_type": "error",
     "traceback": [
      "\u001b[0;31m---------------------------------------------------------------------------\u001b[0m",
      "\u001b[0;31mKeyError\u001b[0m                                  Traceback (most recent call last)",
      "\u001b[1;32m/Users/hwan/Documents/study/fullstack-gpt/notebook.ipynb 셀 1\u001b[0m line \u001b[0;36m4\n\u001b[1;32m     <a href='vscode-notebook-cell:/Users/hwan/Documents/study/fullstack-gpt/notebook.ipynb#W4sZmlsZQ%3D%3D?line=11'>12</a>\u001b[0m examples \u001b[39m=\u001b[39m [\n\u001b[1;32m     <a href='vscode-notebook-cell:/Users/hwan/Documents/study/fullstack-gpt/notebook.ipynb#W4sZmlsZQ%3D%3D?line=12'>13</a>\u001b[0m     {\n\u001b[1;32m     <a href='vscode-notebook-cell:/Users/hwan/Documents/study/fullstack-gpt/notebook.ipynb#W4sZmlsZQ%3D%3D?line=13'>14</a>\u001b[0m         \u001b[39m\"\u001b[39m\u001b[39mquestion\u001b[39m\u001b[39m\"\u001b[39m: \u001b[39m\"\u001b[39m\u001b[39mWhat do you know about France?\u001b[39m\u001b[39m\"\u001b[39m,\n\u001b[0;32m   (...)\u001b[0m\n\u001b[1;32m     <a href='vscode-notebook-cell:/Users/hwan/Documents/study/fullstack-gpt/notebook.ipynb#W4sZmlsZQ%3D%3D?line=41'>42</a>\u001b[0m     },\n\u001b[1;32m     <a href='vscode-notebook-cell:/Users/hwan/Documents/study/fullstack-gpt/notebook.ipynb#W4sZmlsZQ%3D%3D?line=42'>43</a>\u001b[0m ]\n\u001b[1;32m     <a href='vscode-notebook-cell:/Users/hwan/Documents/study/fullstack-gpt/notebook.ipynb#W4sZmlsZQ%3D%3D?line=44'>45</a>\u001b[0m example_prompt \u001b[39m=\u001b[39m PromptTemplate\u001b[39m.\u001b[39mfrom_template(\u001b[39m\"\u001b[39m\u001b[39mHuman: \u001b[39m\u001b[39m{question}\u001b[39;00m\u001b[39m\\n\u001b[39;00m\u001b[39mAI:\u001b[39m\u001b[39m{answer}\u001b[39;00m\u001b[39m\"\u001b[39m)\n\u001b[0;32m---> <a href='vscode-notebook-cell:/Users/hwan/Documents/study/fullstack-gpt/notebook.ipynb#W4sZmlsZQ%3D%3D?line=46'>47</a>\u001b[0m prompt \u001b[39m=\u001b[39m FewShotPromptTemplate(\n\u001b[1;32m     <a href='vscode-notebook-cell:/Users/hwan/Documents/study/fullstack-gpt/notebook.ipynb#W4sZmlsZQ%3D%3D?line=47'>48</a>\u001b[0m     example_prompt\u001b[39m=\u001b[39;49mexample_prompt,\n\u001b[1;32m     <a href='vscode-notebook-cell:/Users/hwan/Documents/study/fullstack-gpt/notebook.ipynb#W4sZmlsZQ%3D%3D?line=48'>49</a>\u001b[0m     examples\u001b[39m=\u001b[39;49mexamples,\n\u001b[1;32m     <a href='vscode-notebook-cell:/Users/hwan/Documents/study/fullstack-gpt/notebook.ipynb#W4sZmlsZQ%3D%3D?line=49'>50</a>\u001b[0m     suffix\u001b[39m=\u001b[39;49m\u001b[39m\"\u001b[39;49m\u001b[39mHuman: What do you know about \u001b[39;49m\u001b[39m{country}\u001b[39;49;00m\u001b[39m\"\u001b[39;49m,\n\u001b[1;32m     <a href='vscode-notebook-cell:/Users/hwan/Documents/study/fullstack-gpt/notebook.ipynb#W4sZmlsZQ%3D%3D?line=50'>51</a>\u001b[0m     input_variable\u001b[39m=\u001b[39;49m[\u001b[39m\"\u001b[39;49m\u001b[39mcountry\u001b[39;49m\u001b[39m\"\u001b[39;49m],\n\u001b[1;32m     <a href='vscode-notebook-cell:/Users/hwan/Documents/study/fullstack-gpt/notebook.ipynb#W4sZmlsZQ%3D%3D?line=51'>52</a>\u001b[0m )\n\u001b[1;32m     <a href='vscode-notebook-cell:/Users/hwan/Documents/study/fullstack-gpt/notebook.ipynb#W4sZmlsZQ%3D%3D?line=53'>54</a>\u001b[0m chain \u001b[39m=\u001b[39m prompt \u001b[39m|\u001b[39m chat\n\u001b[1;32m     <a href='vscode-notebook-cell:/Users/hwan/Documents/study/fullstack-gpt/notebook.ipynb#W4sZmlsZQ%3D%3D?line=55'>56</a>\u001b[0m chain\u001b[39m.\u001b[39minvoke({\u001b[39m\"\u001b[39m\u001b[39mcountry\u001b[39m\u001b[39m\"\u001b[39m: \u001b[39m\"\u001b[39m\u001b[39mKorea\u001b[39m\u001b[39m\"\u001b[39m})\n",
      "File \u001b[0;32m~/Documents/study/fullstack-gpt/env/lib/python3.11/site-packages/langchain/load/serializable.py:97\u001b[0m, in \u001b[0;36mSerializable.__init__\u001b[0;34m(self, **kwargs)\u001b[0m\n\u001b[1;32m     96\u001b[0m \u001b[39mdef\u001b[39;00m \u001b[39m__init__\u001b[39m(\u001b[39mself\u001b[39m, \u001b[39m*\u001b[39m\u001b[39m*\u001b[39mkwargs: Any) \u001b[39m-\u001b[39m\u001b[39m>\u001b[39m \u001b[39mNone\u001b[39;00m:\n\u001b[0;32m---> 97\u001b[0m     \u001b[39msuper\u001b[39;49m()\u001b[39m.\u001b[39;49m\u001b[39m__init__\u001b[39;49m(\u001b[39m*\u001b[39;49m\u001b[39m*\u001b[39;49mkwargs)\n\u001b[1;32m     98\u001b[0m     \u001b[39mself\u001b[39m\u001b[39m.\u001b[39m_lc_kwargs \u001b[39m=\u001b[39m kwargs\n",
      "File \u001b[0;32m~/Documents/study/fullstack-gpt/env/lib/python3.11/site-packages/pydantic/main.py:339\u001b[0m, in \u001b[0;36mpydantic.main.BaseModel.__init__\u001b[0;34m()\u001b[0m\n",
      "File \u001b[0;32m~/Documents/study/fullstack-gpt/env/lib/python3.11/site-packages/pydantic/main.py:1102\u001b[0m, in \u001b[0;36mpydantic.main.validate_model\u001b[0;34m()\u001b[0m\n",
      "File \u001b[0;32m~/Documents/study/fullstack-gpt/env/lib/python3.11/site-packages/langchain/schema/prompt_template.py:76\u001b[0m, in \u001b[0;36mBasePromptTemplate.validate_variable_names\u001b[0;34m(cls, values)\u001b[0m\n\u001b[1;32m     73\u001b[0m \u001b[39m@root_validator\u001b[39m()\n\u001b[1;32m     74\u001b[0m \u001b[39mdef\u001b[39;00m \u001b[39mvalidate_variable_names\u001b[39m(\u001b[39mcls\u001b[39m, values: Dict) \u001b[39m-\u001b[39m\u001b[39m>\u001b[39m Dict:\n\u001b[1;32m     75\u001b[0m \u001b[39m    \u001b[39m\u001b[39m\"\"\"Validate variable names do not include restricted names.\"\"\"\u001b[39;00m\n\u001b[0;32m---> 76\u001b[0m     \u001b[39mif\u001b[39;00m \u001b[39m\"\u001b[39m\u001b[39mstop\u001b[39m\u001b[39m\"\u001b[39m \u001b[39min\u001b[39;00m values[\u001b[39m\"\u001b[39;49m\u001b[39minput_variables\u001b[39;49m\u001b[39m\"\u001b[39;49m]:\n\u001b[1;32m     77\u001b[0m         \u001b[39mraise\u001b[39;00m \u001b[39mValueError\u001b[39;00m(\n\u001b[1;32m     78\u001b[0m             \u001b[39m\"\u001b[39m\u001b[39mCannot have an input variable named \u001b[39m\u001b[39m'\u001b[39m\u001b[39mstop\u001b[39m\u001b[39m'\u001b[39m\u001b[39m, as it is used internally,\u001b[39m\u001b[39m\"\u001b[39m\n\u001b[1;32m     79\u001b[0m             \u001b[39m\"\u001b[39m\u001b[39m please rename.\u001b[39m\u001b[39m\"\u001b[39m\n\u001b[1;32m     80\u001b[0m         )\n\u001b[1;32m     81\u001b[0m     \u001b[39mif\u001b[39;00m \u001b[39m\"\u001b[39m\u001b[39mstop\u001b[39m\u001b[39m\"\u001b[39m \u001b[39min\u001b[39;00m values[\u001b[39m\"\u001b[39m\u001b[39mpartial_variables\u001b[39m\u001b[39m\"\u001b[39m]:\n",
      "\u001b[0;31mKeyError\u001b[0m: 'input_variables'"
     ]
    }
   ],
   "source": [
    "from langchain.chat_models import ChatOpenAI\n",
    "from langchain.prompts import PromptTemplate\n",
    "from langchain.prompts.few_shot import FewShotPromptTemplate\n",
    "from langchain.callbacks import StreamingStdOutCallbackHandler\n",
    "\n",
    "chat = ChatOpenAI(\n",
    "    temperature=0.1,\n",
    "    streaming=True,\n",
    "    callbacks=[StreamingStdOutCallbackHandler()],\n",
    ")\n",
    "\n",
    "examples = [\n",
    "    {\n",
    "        \"question\": \"What do you know about France?\",\n",
    "        \"answer\": \"\"\"\n",
    "          Here is what I know:\n",
    "          Capital: Paris\n",
    "          Language: French\n",
    "          Food: Wine and Cheese\n",
    "          Currency: Euro\n",
    "          \"\"\",\n",
    "    },\n",
    "    {\n",
    "        \"question\": \"What do you know about Italy?\",\n",
    "        \"answer\": \"\"\"\n",
    "          I know this:\n",
    "          Capital: Rome\n",
    "          Language: Italian\n",
    "          Food: Pizza and Pasta\n",
    "          Currency: Euro\n",
    "          \"\"\",\n",
    "    },\n",
    "    {\n",
    "        \"question\": \"What do you know about Greece?\",\n",
    "        \"answer\": \"\"\"\n",
    "          I know this:\n",
    "          Capital: Athens\n",
    "          Language: Greek\n",
    "          Food: Souvlaki and Feta Cheese\n",
    "          Currency: Euro\n",
    "          \"\"\",\n",
    "    },\n",
    "]\n",
    "\n",
    "example_prompt = PromptTemplate.from_template(\"Human: {question}\\nAI:{answer}\")\n",
    "\n",
    "prompt = FewShotPromptTemplate(\n",
    "    example_prompt=example_prompt,\n",
    "    examples=examples,\n",
    "    suffix=\"Human: What do you know about {country}\",\n",
    "    input_variables=[\"country\"],\n",
    ")\n",
    "\n",
    "chain = prompt | chat\n",
    "\n",
    "chain.invoke({\"country\": \"Korea\"})"
   ]
  }
 ],
 "metadata": {
  "kernelspec": {
   "display_name": "env",
   "language": "python",
   "name": "python3"
  },
  "language_info": {
   "codemirror_mode": {
    "name": "ipython",
    "version": 3
   },
   "file_extension": ".py",
   "mimetype": "text/x-python",
   "name": "python",
   "nbconvert_exporter": "python",
   "pygments_lexer": "ipython3",
   "version": "3.11.6"
  }
 },
 "nbformat": 4,
 "nbformat_minor": 2
}
