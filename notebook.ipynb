{
 "cells": [
  {
   "cell_type": "code",
   "execution_count": 4,
   "metadata": {},
   "outputs": [
    {
     "data": {
      "text/plain": [
       "'{\\n  \"questions\": [\\n    {\\n      \"question\": \"What is the capital city of South Korea?\",\\n      \"answers\": [\\n        {\\n          \"answer\": \"Seoul\",\\n          \"correct\": true\\n        },\\n        {\\n          \"answer\": \"Busan\",\\n          \"correct\": false\\n        },\\n        {\\n          \"answer\": \"Incheon\",\\n          \"correct\": false\\n        },\\n        {\\n          \"answer\": \"Daegu\",\\n          \"correct\": false\\n        }\\n      ]\\n    },\\n    {\\n      \"question\": \"Which river flows through Seoul?\",\\n      \"answers\": [\\n        {\\n          \"answer\": \"Han River\",\\n          \"correct\": true\\n        },\\n        {\\n          \"answer\": \"Nakdong River\",\\n          \"correct\": false\\n        },\\n        {\\n          \"answer\": \"Geum River\",\\n          \"correct\": false\\n        },\\n        {\\n          \"answer\": \"Yeongsan River\",\\n          \"correct\": false\\n        }\\n      ]\\n    },\\n    {\\n      \"question\": \"What is the tallest building in Seoul?\",\\n      \"answers\": [\\n        {\\n          \"answer\": \"Lotte World Tower\",\\n          \"correct\": true\\n        },\\n        {\\n          \"answer\": \"N Seoul Tower\",\\n          \"correct\": false\\n        },\\n        {\\n          \"answer\": \"63 Building\",\\n          \"correct\": false\\n        },\\n        {\\n          \"answer\": \"Seoul Sky\",\\n          \"correct\": false\\n        }\\n      ]\\n    },\\n    {\\n      \"question\": \"Which palace is located in the heart of Seoul?\",\\n      \"answers\": [\\n        {\\n          \"answer\": \"Gyeongbokgung Palace\",\\n          \"correct\": true\\n        },\\n        {\\n          \"answer\": \"Changdeokgung Palace\",\\n          \"correct\": false\\n        },\\n        {\\n          \"answer\": \"Deoksugung Palace\",\\n          \"correct\": false\\n        },\\n        {\\n          \"answer\": \"Changgyeonggung Palace\",\\n          \"correct\": false\\n        }\\n      ]\\n    },\\n    {\\n      \"question\": \"What is the famous shopping district in Seoul?\",\\n      \"answers\": [\\n        {\\n          \"answer\": \"Myeongdong\",\\n          \"correct\": true\\n        },\\n        {\\n          \"answer\": \"Gangnam\",\\n          \"correct\": false\\n        },\\n        {\\n          \"answer\": \"Hongdae\",\\n          \"correct\": false\\n        },\\n        {\\n          \"answer\": \"Dongdaemun\",\\n          \"correct\": false\\n        }\\n      ]\\n    }\\n  ]\\n}'"
      ]
     },
     "execution_count": 4,
     "metadata": {},
     "output_type": "execute_result"
    }
   ],
   "source": [
    "from langchain.chat_models import ChatOpenAI\n",
    "from langchain.prompts import PromptTemplate\n",
    "\n",
    "\n",
    "function = {\n",
    "    \"name\": \"create_quiz\",\n",
    "    \"description\": \"function that takes a list of questions and answers and returns a quiz\",\n",
    "    \"parameters\": {\n",
    "        \"type\": \"object\",\n",
    "        \"properties\": {\n",
    "            \"questions\": {\n",
    "                \"type\": \"array\",\n",
    "                \"items\": {\n",
    "                    \"type\": \"object\",\n",
    "                    \"properties\": {\n",
    "                        \"question\": {\n",
    "                            \"type\": \"string\",\n",
    "                        },\n",
    "                        \"answers\": {\n",
    "                            \"type\": \"array\",\n",
    "                            \"items\": {\n",
    "                                \"type\": \"object\",\n",
    "                                \"properties\": {\n",
    "                                    \"answer\": {\n",
    "                                        \"type\": \"string\",\n",
    "                                    },\n",
    "                                    \"correct\": {\n",
    "                                        \"type\": \"boolean\",\n",
    "                                    },\n",
    "                                },\n",
    "                                \"required\": [\"answer\", \"correct\"],\n",
    "                            },\n",
    "                        },\n",
    "                    },\n",
    "                    \"required\": [\"question\", \"answers\"],\n",
    "                },\n",
    "            }\n",
    "        },\n",
    "        \"required\": [\"questions\"],\n",
    "    },\n",
    "}\n",
    "\n",
    "\n",
    "llm = ChatOpenAI(\n",
    "    temperature=0.1,\n",
    ").bind(\n",
    "    function_call={\n",
    "        \"name\": \"create_quiz\",\n",
    "    },\n",
    "    functions=[\n",
    "        function,\n",
    "    ],\n",
    ")\n",
    "\n",
    "prompt = PromptTemplate.from_template(\"Make a quiz about {city}\")\n",
    "\n",
    "chain = prompt | llm\n",
    "\n",
    "response = chain.invoke({\"city\": \"Seoul\"})\n",
    "\n",
    "\n",
    "response = response.additional_kwargs[\"function_call\"][\"arguments\"]\n",
    "\n",
    "response"
   ]
  },
  {
   "cell_type": "code",
   "execution_count": 5,
   "metadata": {},
   "outputs": [
    {
     "name": "stdout",
     "output_type": "stream",
     "text": [
      "{'question': 'What is the capital city of South Korea?', 'answers': [{'answer': 'Seoul', 'correct': True}, {'answer': 'Busan', 'correct': False}, {'answer': 'Incheon', 'correct': False}, {'answer': 'Daegu', 'correct': False}]}\n",
      "{'question': 'Which river flows through Seoul?', 'answers': [{'answer': 'Han River', 'correct': True}, {'answer': 'Nakdong River', 'correct': False}, {'answer': 'Geum River', 'correct': False}, {'answer': 'Yeongsan River', 'correct': False}]}\n",
      "{'question': 'What is the tallest building in Seoul?', 'answers': [{'answer': 'Lotte World Tower', 'correct': True}, {'answer': 'N Seoul Tower', 'correct': False}, {'answer': '63 Building', 'correct': False}, {'answer': 'Seoul Sky', 'correct': False}]}\n",
      "{'question': 'Which palace is located in the heart of Seoul?', 'answers': [{'answer': 'Gyeongbokgung Palace', 'correct': True}, {'answer': 'Changdeokgung Palace', 'correct': False}, {'answer': 'Deoksugung Palace', 'correct': False}, {'answer': 'Changgyeonggung Palace', 'correct': False}]}\n",
      "{'question': 'What is the famous shopping district in Seoul?', 'answers': [{'answer': 'Myeongdong', 'correct': True}, {'answer': 'Gangnam', 'correct': False}, {'answer': 'Hongdae', 'correct': False}, {'answer': 'Dongdaemun', 'correct': False}]}\n"
     ]
    }
   ],
   "source": [
    "import json\n",
    "\n",
    "for question in json.loads(response)[\"questions\"]:\n",
    "    print(question)"
   ]
  }
 ],
 "metadata": {
  "kernelspec": {
   "display_name": "env",
   "language": "python",
   "name": "python3"
  },
  "language_info": {
   "codemirror_mode": {
    "name": "ipython",
    "version": 3
   },
   "file_extension": ".py",
   "mimetype": "text/x-python",
   "name": "python",
   "nbconvert_exporter": "python",
   "pygments_lexer": "ipython3",
   "version": "3.11.6"
  }
 },
 "nbformat": 4,
 "nbformat_minor": 2
}
