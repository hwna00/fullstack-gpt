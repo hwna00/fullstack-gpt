{
 "cells": [
  {
   "cell_type": "code",
   "execution_count": 2,
   "metadata": {},
   "outputs": [
    {
     "data": {
      "text/plain": [
       "627.2174149659864"
      ]
     },
     "execution_count": 2,
     "metadata": {},
     "output_type": "execute_result"
    }
   ],
   "source": [
    "import subprocess\n",
    "from pydub import AudioSegment\n",
    "\n",
    "\n",
    "def extract_audio_from_video(video_path, audio_path):\n",
    "    command = [\"ffmpeg\", \"-i\", video_path, \"-vn\", audio_path]\n",
    "\n",
    "    subprocess.run(command)\n",
    "\n",
    "\n",
    "track = AudioSegment.from_mp3(\"./files/audio.mp3\")\n",
    "\n",
    "track.duration_seconds"
   ]
  },
  {
   "cell_type": "code",
   "execution_count": 10,
   "metadata": {},
   "outputs": [],
   "source": [
    "import math\n",
    "\n",
    "\n",
    "six_minutes = 6 * 60 * 1000\n",
    "chunks = math.ceil(len(track) / six_minutes)\n",
    "\n",
    "for i in range(chunks):\n",
    "    start_time = i * six_minutes\n",
    "    end_time = (i + 1) * six_minutes\n",
    "    separated = track[start_time:end_time]\n",
    "    separated.export(f\"./files/chunks//chunk_{i}.mp3\", format=\"mp3\")"
   ]
  }
 ],
 "metadata": {
  "kernelspec": {
   "display_name": "env",
   "language": "python",
   "name": "python3"
  },
  "language_info": {
   "codemirror_mode": {
    "name": "ipython",
    "version": 3
   },
   "file_extension": ".py",
   "mimetype": "text/x-python",
   "name": "python",
   "nbconvert_exporter": "python",
   "pygments_lexer": "ipython3",
   "version": "3.11.6"
  }
 },
 "nbformat": 4,
 "nbformat_minor": 2
}
