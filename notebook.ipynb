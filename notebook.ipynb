{
 "cells": [
  {
   "cell_type": "code",
   "execution_count": 2,
   "metadata": {},
   "outputs": [
    {
     "name": "stdout",
     "output_type": "stream",
     "text": [
      "\n",
      "\n",
      "\u001b[1m> Entering new AgentExecutor chain...\u001b[0m\n",
      "\u001b[32;1m\u001b[1;3m\n",
      "Invoking: `StockMarketSymbolSearchTool` with `{'query': 'Stock Market Symbol for Cloudflare'}`\n",
      "\n",
      "\n",
      "\u001b[0m\u001b[36;1m\u001b[1;3mStock Exchange NYSE Ticker Symbol NET Full Company Profile Financial Performance In 2022, Cloudflare's revenue was $975.24 million, an increase of 48.57% compared to the previous year's $656.43 million. Losses were -$193.38 million, -25.71% less than in 2021. Financial Statements Stocks Cloudflare Inc Cloudflare Inc NET Morningstar Rating Stock XNYS Rating as of Jan 5, 2024 Summary Chart News Price vs Fair Value Sustainability Trailing Returns Financials Valuation... Cloudflare MarketRank™ Stock Analysis Analyst Rating Hold 2.26 Rating Score Upside/ Downside 19.4% Downside $65.81 Price Target The most recent trading session ended with Cloudflare (NET) standing at $80.97, reflecting a -0.81% shift from the previouse trading day's closing. This change lagged the S&P 500's daily gain of 0 ... Latest Stock Analysis 63.13K followers $76.28 -0.55 ( -0.72%) 4:00 PM 01/05/24 NYSE | $USD | Post-Market: $76.40 +0.12 (+0.16%) 7:57 PM Summary Ratings Financials Earnings Dividends Valuation...\u001b[0m\u001b[32;1m\u001b[1;3mThe stock market symbol for Cloudflare is NET and it is listed on the NYSE (New York Stock Exchange).\n",
      "\n",
      "As for analyzing if Cloudflare is a potential good investment, here are some key points to consider:\n",
      "\n",
      "1. Financial Performance: In 2022, Cloudflare's revenue was $975.24 million, which is a significant increase of 48.57% compared to the previous year. However, the company also reported losses of -$193.38 million, which is a decrease of 25.71% compared to 2021. It's important to analyze the reasons behind these financial figures and assess the company's growth potential.\n",
      "\n",
      "2. Stock Analysis: Cloudflare currently has a Morningstar Rating of XNYS and an analyst rating of Hold with a rating score of 2.26. The upside/downside potential is estimated to be 19.4% downside with a price target of $65.81. It's advisable to consider the opinions of financial analysts and experts when making investment decisions.\n",
      "\n",
      "3. Stock Price: As of the most recent trading session, Cloudflare's stock price was $80.97, reflecting a -0.81% shift from the previous trading day's closing. It's important to track the stock price over time and analyze the trends and volatility.\n",
      "\n",
      "4. Market Analysis: Cloudflare has a MarketRank™ score, which indicates its overall performance and potential in the market. It's advisable to analyze the market trends, competition, and industry outlook to assess the company's position and growth prospects.\n",
      "\n",
      "5. Sustainability: Consider the company's commitment to sustainability and environmental, social, and governance (ESG) factors. This can provide insights into the company's long-term viability and reputation.\n",
      "\n",
      "It's important to note that investing in stocks carries risks, and it's recommended to consult with a financial advisor or do thorough research before making any investment decisions.\u001b[0m\n",
      "\n",
      "\u001b[1m> Finished chain.\u001b[0m\n"
     ]
    },
    {
     "data": {
      "text/plain": [
       "{'input': \"Give me information on Cloudflare's stock and help me analyze if it's a potential good investment. Also tell me what symbol does the stock have.\",\n",
       " 'output': \"The stock market symbol for Cloudflare is NET and it is listed on the NYSE (New York Stock Exchange).\\n\\nAs for analyzing if Cloudflare is a potential good investment, here are some key points to consider:\\n\\n1. Financial Performance: In 2022, Cloudflare's revenue was $975.24 million, which is a significant increase of 48.57% compared to the previous year. However, the company also reported losses of -$193.38 million, which is a decrease of 25.71% compared to 2021. It's important to analyze the reasons behind these financial figures and assess the company's growth potential.\\n\\n2. Stock Analysis: Cloudflare currently has a Morningstar Rating of XNYS and an analyst rating of Hold with a rating score of 2.26. The upside/downside potential is estimated to be 19.4% downside with a price target of $65.81. It's advisable to consider the opinions of financial analysts and experts when making investment decisions.\\n\\n3. Stock Price: As of the most recent trading session, Cloudflare's stock price was $80.97, reflecting a -0.81% shift from the previous trading day's closing. It's important to track the stock price over time and analyze the trends and volatility.\\n\\n4. Market Analysis: Cloudflare has a MarketRank™ score, which indicates its overall performance and potential in the market. It's advisable to analyze the market trends, competition, and industry outlook to assess the company's position and growth prospects.\\n\\n5. Sustainability: Consider the company's commitment to sustainability and environmental, social, and governance (ESG) factors. This can provide insights into the company's long-term viability and reputation.\\n\\nIt's important to note that investing in stocks carries risks, and it's recommended to consult with a financial advisor or do thorough research before making any investment decisions.\"}"
      ]
     },
     "execution_count": 2,
     "metadata": {},
     "output_type": "execute_result"
    }
   ],
   "source": [
    "from typing import Type\n",
    "from langchain.chat_models import ChatOpenAI\n",
    "from langchain.tools import BaseTool\n",
    "from pydantic import BaseModel, Field\n",
    "from langchain.agents import initialize_agent, AgentType\n",
    "from langchain.utilities import DuckDuckGoSearchAPIWrapper\n",
    "\n",
    "llm = ChatOpenAI(temperature=0.1)\n",
    "\n",
    "\n",
    "class StockMarketSymbolSearchToolArgsSchema(BaseModel):\n",
    "    query: str = Field(\n",
    "        description=\"The query you will search for.Example query: Stock Market Symbol for Apple Company\"\n",
    "    )\n",
    "\n",
    "\n",
    "class StockMarketSymbolSearchTool(BaseTool):\n",
    "    name = \"StockMarketSymbolSearchTool\"\n",
    "    description = \"\"\"\n",
    "    Use this tool to find the stock market symbol for a company.\n",
    "    It takes a query as an argument.\n",
    "    \n",
    "    \"\"\"\n",
    "    args_schema: Type[\n",
    "        StockMarketSymbolSearchToolArgsSchema\n",
    "    ] = StockMarketSymbolSearchToolArgsSchema\n",
    "\n",
    "    def _run(self, query):\n",
    "        ddg = DuckDuckGoSearchAPIWrapper()\n",
    "        return ddg.run(query)\n",
    "\n",
    "\n",
    "agent = initialize_agent(\n",
    "    llm=llm,\n",
    "    verbose=True,\n",
    "    agent=AgentType.OPENAI_FUNCTIONS,\n",
    "    handle_parsing_errors=True,\n",
    "    tools=[\n",
    "        StockMarketSymbolSearchTool(),\n",
    "    ],\n",
    ")\n",
    "\n",
    "prompt = \"Give me information on Cloudflare's stock and help me analyze if it's a potential good investment. Also tell me what symbol does the stock have.\"\n",
    "\n",
    "agent.invoke(prompt)"
   ]
  },
  {
   "cell_type": "markdown",
   "metadata": {},
   "source": []
  }
 ],
 "metadata": {
  "kernelspec": {
   "display_name": "env",
   "language": "python",
   "name": "python3"
  },
  "language_info": {
   "codemirror_mode": {
    "name": "ipython",
    "version": 3
   },
   "file_extension": ".py",
   "mimetype": "text/x-python",
   "name": "python",
   "nbconvert_exporter": "python",
   "pygments_lexer": "ipython3",
   "version": "3.11.6"
  }
 },
 "nbformat": 4,
 "nbformat_minor": 2
}
